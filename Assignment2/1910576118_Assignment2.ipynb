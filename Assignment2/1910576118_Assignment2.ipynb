{
  "nbformat": 4,
  "nbformat_minor": 0,
  "metadata": {
    "colab": {
      "provenance": [],
      "collapsed_sections": [
        "wu8n9Va7zchV"
      ]
    },
    "kernelspec": {
      "name": "python3",
      "display_name": "Python 3"
    },
    "language_info": {
      "name": "python"
    }
  },
  "cells": [
    {
      "cell_type": "markdown",
      "source": [
        "#1)Building a CNN which exactly looks like VGG16 and Transfering weights of pre-trained VGG16 to the newly built VGG16."
      ],
      "metadata": {
        "id": "3Z5DkKsP2NVk"
      }
    },
    {
      "cell_type": "markdown",
      "source": [
        "##import necessary modules"
      ],
      "metadata": {
        "id": "VVQ3chGdpNQg"
      }
    },
    {
      "cell_type": "code",
      "source": [
        "from tensorflow.keras.layers import Input,Conv2D,MaxPooling2D,Flatten,Dense\n",
        "from keras.models import Model\n",
        "from tensorflow.keras.applications import vgg16"
      ],
      "metadata": {
        "id": "0Mrf5cTp2c3E"
      },
      "execution_count": 17,
      "outputs": []
    },
    {
      "cell_type": "markdown",
      "source": [
        "##Original vgg16 architecture"
      ],
      "metadata": {
        "id": "wu8n9Va7zchV"
      }
    },
    {
      "cell_type": "code",
      "source": [
        "original_model = vgg16.VGG16()\n",
        "original_model.summary()\n",
        "\n"
      ],
      "metadata": {
        "colab": {
          "base_uri": "https://localhost:8080/"
        },
        "id": "-8TzqEsotobJ",
        "outputId": "7d38de08-10d3-4cae-bff3-52a443e46b47"
      },
      "execution_count": null,
      "outputs": [
        {
          "output_type": "stream",
          "name": "stdout",
          "text": [
            "Model: \"vgg16\"\n",
            "_________________________________________________________________\n",
            " Layer (type)                Output Shape              Param #   \n",
            "=================================================================\n",
            " input_2 (InputLayer)        [(None, 224, 224, 3)]     0         \n",
            "                                                                 \n",
            " block1_conv1 (Conv2D)       (None, 224, 224, 64)      1792      \n",
            "                                                                 \n",
            " block1_conv2 (Conv2D)       (None, 224, 224, 64)      36928     \n",
            "                                                                 \n",
            " block1_pool (MaxPooling2D)  (None, 112, 112, 64)      0         \n",
            "                                                                 \n",
            " block2_conv1 (Conv2D)       (None, 112, 112, 128)     73856     \n",
            "                                                                 \n",
            " block2_conv2 (Conv2D)       (None, 112, 112, 128)     147584    \n",
            "                                                                 \n",
            " block2_pool (MaxPooling2D)  (None, 56, 56, 128)       0         \n",
            "                                                                 \n",
            " block3_conv1 (Conv2D)       (None, 56, 56, 256)       295168    \n",
            "                                                                 \n",
            " block3_conv2 (Conv2D)       (None, 56, 56, 256)       590080    \n",
            "                                                                 \n",
            " block3_conv3 (Conv2D)       (None, 56, 56, 256)       590080    \n",
            "                                                                 \n",
            " block3_pool (MaxPooling2D)  (None, 28, 28, 256)       0         \n",
            "                                                                 \n",
            " block4_conv1 (Conv2D)       (None, 28, 28, 512)       1180160   \n",
            "                                                                 \n",
            " block4_conv2 (Conv2D)       (None, 28, 28, 512)       2359808   \n",
            "                                                                 \n",
            " block4_conv3 (Conv2D)       (None, 28, 28, 512)       2359808   \n",
            "                                                                 \n",
            " block4_pool (MaxPooling2D)  (None, 14, 14, 512)       0         \n",
            "                                                                 \n",
            " block5_conv1 (Conv2D)       (None, 14, 14, 512)       2359808   \n",
            "                                                                 \n",
            " block5_conv2 (Conv2D)       (None, 14, 14, 512)       2359808   \n",
            "                                                                 \n",
            " block5_conv3 (Conv2D)       (None, 14, 14, 512)       2359808   \n",
            "                                                                 \n",
            " block5_pool (MaxPooling2D)  (None, 7, 7, 512)         0         \n",
            "                                                                 \n",
            " flatten (Flatten)           (None, 25088)             0         \n",
            "                                                                 \n",
            " fc1 (Dense)                 (None, 4096)              102764544 \n",
            "                                                                 \n",
            " fc2 (Dense)                 (None, 4096)              16781312  \n",
            "                                                                 \n",
            " predictions (Dense)         (None, 1000)              4097000   \n",
            "                                                                 \n",
            "=================================================================\n",
            "Total params: 138357544 (527.79 MB)\n",
            "Trainable params: 138357544 (527.79 MB)\n",
            "Non-trainable params: 0 (0.00 Byte)\n",
            "_________________________________________________________________\n"
          ]
        }
      ]
    },
    {
      "cell_type": "markdown",
      "source": [
        "##Building a model architecture like vgg16"
      ],
      "metadata": {
        "id": "zfjHTliZubeQ"
      }
    },
    {
      "cell_type": "code",
      "source": [
        "inputs = Input((224,224,3))\n",
        "x = Conv2D(filters = 64, kernel_size = (3,3), padding='same')(inputs)\n",
        "x = Conv2D(filters = 64, kernel_size = (3,3), padding='same')(x)\n",
        "x = MaxPooling2D()(x)\n",
        "x = Conv2D(filters = 128, kernel_size = (3,3), padding='same')(x)\n",
        "x = Conv2D(filters = 128, kernel_size = (3,3), padding='same')(x)\n",
        "x = MaxPooling2D()(x)\n",
        "x = Conv2D(filters = 256, kernel_size = (3,3), padding='same')(x)\n",
        "x = Conv2D(filters = 256, kernel_size = (3,3), padding='same')(x)\n",
        "x = Conv2D(filters = 256, kernel_size = (3,3), padding='same')(x)\n",
        "x = MaxPooling2D()(x)\n",
        "x = Conv2D(filters = 512, kernel_size = (3,3), padding='same')(x)\n",
        "x = Conv2D(filters = 512, kernel_size = (3,3), padding='same')(x)\n",
        "x = Conv2D(filters = 512, kernel_size = (3,3), padding='same')(x)\n",
        "x = MaxPooling2D()(x)\n",
        "x = Conv2D(filters = 512, kernel_size = (3,3), padding='same')(x)\n",
        "x = Conv2D(filters = 512, kernel_size = (3,3), padding='same')(x)\n",
        "x = Conv2D(filters = 512, kernel_size = (3,3),)(x)\n",
        "x = MaxPooling2D()(x)\n",
        "\n",
        "x = Flatten()(x)\n",
        "\n",
        "x = Dense(4096,activation='relu')(x)\n",
        "x = Dense(4096,activation='relu')(x)\n",
        "\n",
        "outputs = Dense(1000, activation = 'sigmoid', name='simple_cnn')(x)\n",
        "model = Model(inputs, outputs)\n",
        "model.summary()"
      ],
      "metadata": {
        "id": "GFX1k5ozwtUI",
        "colab": {
          "base_uri": "https://localhost:8080/"
        },
        "outputId": "cb312de8-982e-4b06-a1b9-314a44050e1b"
      },
      "execution_count": 18,
      "outputs": [
        {
          "output_type": "stream",
          "name": "stdout",
          "text": [
            "Model: \"model\"\n",
            "_________________________________________________________________\n",
            " Layer (type)                Output Shape              Param #   \n",
            "=================================================================\n",
            " input_7 (InputLayer)        [(None, 224, 224, 3)]     0         \n",
            "                                                                 \n",
            " conv2d_28 (Conv2D)          (None, 224, 224, 64)      1792      \n",
            "                                                                 \n",
            " conv2d_29 (Conv2D)          (None, 224, 224, 64)      36928     \n",
            "                                                                 \n",
            " max_pooling2d_10 (MaxPooli  (None, 112, 112, 64)      0         \n",
            " ng2D)                                                           \n",
            "                                                                 \n",
            " conv2d_30 (Conv2D)          (None, 112, 112, 128)     73856     \n",
            "                                                                 \n",
            " conv2d_31 (Conv2D)          (None, 112, 112, 128)     147584    \n",
            "                                                                 \n",
            " max_pooling2d_11 (MaxPooli  (None, 56, 56, 128)       0         \n",
            " ng2D)                                                           \n",
            "                                                                 \n",
            " conv2d_32 (Conv2D)          (None, 56, 56, 256)       295168    \n",
            "                                                                 \n",
            " conv2d_33 (Conv2D)          (None, 56, 56, 256)       590080    \n",
            "                                                                 \n",
            " conv2d_34 (Conv2D)          (None, 56, 56, 256)       590080    \n",
            "                                                                 \n",
            " max_pooling2d_12 (MaxPooli  (None, 28, 28, 256)       0         \n",
            " ng2D)                                                           \n",
            "                                                                 \n",
            " conv2d_35 (Conv2D)          (None, 28, 28, 512)       1180160   \n",
            "                                                                 \n",
            " conv2d_36 (Conv2D)          (None, 28, 28, 512)       2359808   \n",
            "                                                                 \n",
            " conv2d_37 (Conv2D)          (None, 28, 28, 512)       2359808   \n",
            "                                                                 \n",
            " max_pooling2d_13 (MaxPooli  (None, 14, 14, 512)       0         \n",
            " ng2D)                                                           \n",
            "                                                                 \n",
            " conv2d_38 (Conv2D)          (None, 14, 14, 512)       2359808   \n",
            "                                                                 \n",
            " conv2d_39 (Conv2D)          (None, 14, 14, 512)       2359808   \n",
            "                                                                 \n",
            " conv2d_40 (Conv2D)          (None, 12, 12, 512)       2359808   \n",
            "                                                                 \n",
            " max_pooling2d_14 (MaxPooli  (None, 6, 6, 512)         0         \n",
            " ng2D)                                                           \n",
            "                                                                 \n",
            " flatten_1 (Flatten)         (None, 18432)             0         \n",
            "                                                                 \n",
            " dense_2 (Dense)             (None, 4096)              75501568  \n",
            "                                                                 \n",
            " dense_3 (Dense)             (None, 4096)              16781312  \n",
            "                                                                 \n",
            " simple_cnn (Dense)          (None, 1000)              4097000   \n",
            "                                                                 \n",
            "=================================================================\n",
            "Total params: 111094568 (423.79 MB)\n",
            "Trainable params: 111094568 (423.79 MB)\n",
            "Non-trainable params: 0 (0.00 Byte)\n",
            "_________________________________________________________________\n"
          ]
        }
      ]
    },
    {
      "cell_type": "markdown",
      "source": [
        "##Transfering weights"
      ],
      "metadata": {
        "id": "0oEOG-pq0Kud"
      }
    },
    {
      "cell_type": "code",
      "source": [
        "for i in range(len(model.layers)):\n",
        "    model.layers[i].set_weights(model.layers[i].get_weights())\n",
        "\n",
        "model.weights[:1]"
      ],
      "metadata": {
        "colab": {
          "base_uri": "https://localhost:8080/"
        },
        "id": "G7cjqvp-4JhL",
        "outputId": "44d010cc-8754-4dd9-8aa4-8c2f19ceca64"
      },
      "execution_count": 22,
      "outputs": [
        {
          "output_type": "execute_result",
          "data": {
            "text/plain": [
              "[<tf.Variable 'conv2d_28/kernel:0' shape=(3, 3, 3, 64) dtype=float32, numpy=\n",
              " array([[[[-0.0380385 ,  0.02464169, -0.09656829, ..., -0.03437671,\n",
              "            0.01560492,  0.01278532],\n",
              "          [ 0.02068733,  0.02352774, -0.092843  , ..., -0.02432641,\n",
              "           -0.06267223, -0.03858771],\n",
              "          [ 0.00202605,  0.01822095, -0.05754879, ...,  0.09087639,\n",
              "            0.07568623,  0.05477506]],\n",
              " \n",
              "         [[ 0.03638317, -0.07161248,  0.00394996, ..., -0.03166026,\n",
              "            0.06402873,  0.06542666],\n",
              "          [-0.04583559, -0.07927113, -0.02942922, ...,  0.01222355,\n",
              "           -0.04495266, -0.00296941],\n",
              "          [ 0.01931252, -0.03960674,  0.05975048, ...,  0.00072943,\n",
              "            0.07277575,  0.0993205 ]],\n",
              " \n",
              "         [[ 0.06109518,  0.06207848, -0.00699259, ..., -0.00469431,\n",
              "           -0.00475167,  0.00607607],\n",
              "          [ 0.09517549, -0.03092307, -0.01434497, ..., -0.05328266,\n",
              "           -0.00694287,  0.00864833],\n",
              "          [-0.09227556,  0.02263138, -0.05300895, ..., -0.03341956,\n",
              "           -0.09345914,  0.04683577]]],\n",
              " \n",
              " \n",
              "        [[[-0.07202837,  0.04212089,  0.01237284, ...,  0.01815549,\n",
              "           -0.09750421,  0.07581548],\n",
              "          [-0.07333724, -0.05046644, -0.09292413, ...,  0.06408478,\n",
              "            0.07722412, -0.02452523],\n",
              "          [-0.04450134,  0.0921545 , -0.04442357, ...,  0.03207768,\n",
              "            0.08539379,  0.05356194]],\n",
              " \n",
              "         [[ 0.03454202, -0.02944083, -0.07084847, ..., -0.08365158,\n",
              "            0.0971189 , -0.05578732],\n",
              "          [ 0.01707144,  0.09279215,  0.07002118, ...,  0.03021435,\n",
              "           -0.06819839,  0.06415366],\n",
              "          [-0.03119157,  0.06257574,  0.08512445, ...,  0.0510194 ,\n",
              "            0.0174712 , -0.0015557 ]],\n",
              " \n",
              "         [[ 0.02606671,  0.08134706, -0.01628436, ...,  0.06433661,\n",
              "            0.09549078, -0.02680601],\n",
              "          [ 0.04861718, -0.09402369,  0.00191532, ..., -0.07186415,\n",
              "            0.07464869,  0.07072324],\n",
              "          [-0.06430106, -0.094045  , -0.08576917, ...,  0.0027639 ,\n",
              "           -0.04781562,  0.00763512]]],\n",
              " \n",
              " \n",
              "        [[[-0.05387986,  0.0033236 ,  0.07190648, ..., -0.02515197,\n",
              "            0.00044551,  0.05259363],\n",
              "          [ 0.04306795,  0.08935733,  0.00365104, ..., -0.07757316,\n",
              "           -0.02816059, -0.06544305],\n",
              "          [ 0.03479081, -0.04565689,  0.08299433, ..., -0.05263143,\n",
              "           -0.07079472, -0.05271938]],\n",
              " \n",
              "         [[-0.04264688,  0.02206671, -0.09315071, ...,  0.07753319,\n",
              "           -0.06472598, -0.06094616],\n",
              "          [-0.03845976, -0.03171068,  0.06648332, ..., -0.01580168,\n",
              "           -0.06310904,  0.07326432],\n",
              "          [ 0.05968919, -0.05466224, -0.09308764, ..., -0.0320389 ,\n",
              "           -0.05710208, -0.08318967]],\n",
              " \n",
              "         [[ 0.07139415,  0.04898676,  0.06510605, ...,  0.08139531,\n",
              "            0.09023997, -0.00348668],\n",
              "          [ 0.02194012, -0.00682474, -0.07714339, ..., -0.09231468,\n",
              "            0.0577722 , -0.00045643],\n",
              "          [ 0.04194134,  0.03956781, -0.03455066, ..., -0.0037484 ,\n",
              "           -0.08892848, -0.07012739]]]], dtype=float32)>]"
            ]
          },
          "metadata": {},
          "execution_count": 22
        }
      ]
    },
    {
      "cell_type": "markdown",
      "source": [
        "#2) Building a CNN that is not exactly VGG16"
      ],
      "metadata": {
        "id": "N2Z5Obsc6DK4"
      }
    },
    {
      "cell_type": "markdown",
      "source": [
        "###I have changed 3 things\n",
        "1. Input size\n",
        "2. Karnel size\n",
        "3. Number of dense layer\n",
        "4. Sampling technique\n",
        "4. Architecture design\n",
        "5. Output size"
      ],
      "metadata": {
        "id": "Om4GFqGw9XKp"
      }
    },
    {
      "cell_type": "code",
      "source": [
        "inputs = Input((112,112,3))\n",
        "x = Conv2D(filters = 32, kernel_size = (5,5), padding='same')(inputs)\n",
        "x = Conv2D(filters = 32, kernel_size = (5,5), padding='same')(x)\n",
        "x = Conv2D(filters = 32, kernel_size = (5,5), padding='same')(x)\n",
        "x = MaxPooling2D()(x)\n",
        "x = Conv2D(filters = 128, kernel_size = (5,5), padding='same')(x)\n",
        "x = Conv2D(filters = 128, kernel_size = (5,5), padding='same')(x)\n",
        "x = Conv2D(filters = 128, kernel_size = (5,5), padding='same')(x)\n",
        "x = MaxPooling2D()(x)\n",
        "x = Conv2D(filters = 512, kernel_size = (5,5), padding='same')(x)\n",
        "x = Conv2D(filters = 512, kernel_size = (5,5), padding='same')(x)\n",
        "x = MaxPooling2D()(x)\n",
        "x = Conv2D(filters = 2048, kernel_size = (5,5), padding='same')(x)\n",
        "x = Conv2D(filters = 2048, kernel_size = (5,5), padding='same')(x)\n",
        "x = Conv2D(filters = 2048, kernel_size = (5,5), padding='same')(x)\n",
        "x = MaxPooling2D()(x)\n",
        "\n",
        "x = Flatten()(x)\n",
        "\n",
        "x = Dense(1024,activation='relu',name = 'Dense_Layer_1')(x)\n",
        "x = Dense(512,activation='relu',name = 'Dense_Layer_2')(x)\n",
        "x = Dense(256,activation='relu',name = 'Dense_Layer_3')(x)\n",
        "\n",
        "outputs = Dense(100, activation = 'sigmoid', name='simple_cnn')(x)\n",
        "model = Model(inputs, outputs)\n",
        "model.summary()"
      ],
      "metadata": {
        "colab": {
          "base_uri": "https://localhost:8080/"
        },
        "id": "GxiaTwOT6jk-",
        "outputId": "bce83e7c-792a-4ee0-e237-8e95fd30aea5"
      },
      "execution_count": 29,
      "outputs": [
        {
          "output_type": "stream",
          "name": "stdout",
          "text": [
            "Model: \"model_6\"\n",
            "_________________________________________________________________\n",
            " Layer (type)                Output Shape              Param #   \n",
            "=================================================================\n",
            " input_14 (InputLayer)       [(None, 112, 112, 3)]     0         \n",
            "                                                                 \n",
            " conv2d_101 (Conv2D)         (None, 112, 112, 32)      2432      \n",
            "                                                                 \n",
            " conv2d_102 (Conv2D)         (None, 112, 112, 32)      25632     \n",
            "                                                                 \n",
            " conv2d_103 (Conv2D)         (None, 112, 112, 32)      25632     \n",
            "                                                                 \n",
            " max_pooling2d_39 (MaxPooli  (None, 56, 56, 32)        0         \n",
            " ng2D)                                                           \n",
            "                                                                 \n",
            " conv2d_104 (Conv2D)         (None, 56, 56, 128)       102528    \n",
            "                                                                 \n",
            " conv2d_105 (Conv2D)         (None, 56, 56, 128)       409728    \n",
            "                                                                 \n",
            " conv2d_106 (Conv2D)         (None, 56, 56, 128)       409728    \n",
            "                                                                 \n",
            " max_pooling2d_40 (MaxPooli  (None, 28, 28, 128)       0         \n",
            " ng2D)                                                           \n",
            "                                                                 \n",
            " conv2d_107 (Conv2D)         (None, 28, 28, 512)       1638912   \n",
            "                                                                 \n",
            " conv2d_108 (Conv2D)         (None, 28, 28, 512)       6554112   \n",
            "                                                                 \n",
            " max_pooling2d_41 (MaxPooli  (None, 14, 14, 512)       0         \n",
            " ng2D)                                                           \n",
            "                                                                 \n",
            " conv2d_109 (Conv2D)         (None, 14, 14, 2048)      26216448  \n",
            "                                                                 \n",
            " conv2d_110 (Conv2D)         (None, 14, 14, 2048)      104859648 \n",
            "                                                                 \n",
            " conv2d_111 (Conv2D)         (None, 14, 14, 2048)      104859648 \n",
            "                                                                 \n",
            " max_pooling2d_42 (MaxPooli  (None, 7, 7, 2048)        0         \n",
            " ng2D)                                                           \n",
            "                                                                 \n",
            " flatten_8 (Flatten)         (None, 100352)            0         \n",
            "                                                                 \n",
            " Dense_Layer_1 (Dense)       (None, 1024)              102761472 \n",
            "                                                                 \n",
            " Dense_Layer_2 (Dense)       (None, 512)               524800    \n",
            "                                                                 \n",
            " Dense_Layer_3 (Dense)       (None, 256)               131328    \n",
            "                                                                 \n",
            " simple_cnn (Dense)          (None, 100)               25700     \n",
            "                                                                 \n",
            "=================================================================\n",
            "Total params: 348547748 (1.30 GB)\n",
            "Trainable params: 348547748 (1.30 GB)\n",
            "Non-trainable params: 0 (0.00 Byte)\n",
            "_________________________________________________________________\n"
          ]
        }
      ]
    }
  ]
}